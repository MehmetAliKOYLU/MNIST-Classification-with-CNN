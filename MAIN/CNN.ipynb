{
 "cells": [
  {
   "cell_type": "markdown",
   "id": "bed893b6-5436-4f4d-b444-9cd22e599bc1",
   "metadata": {},
   "source": [
    "\n",
    "## CNN (Evrisimli sinir aglari) -> convolutional neural networks \n",
    "\n",
    "##### ilk olarak 80 li yillarin sonunda sahte imza ve sahte senet gibi sorunlari cozmek icin kullanilan bir yapay sinir agi modelidir\n",
    "##### Bir modelin CNN olarak adlandirilmasi icin gerekli katmanlar =(Convolution) ya da erisim islemi ve ortaklama-havuzlama islemi (pooling)\n",
    "##### YSA'da ogrenmeyi saglayan iki islem vardi. arka arkaya gerceklesen ve ikisi bittiginde bir islem ya da bir iterasyon icin ogrenmesini gerceklestirdigi varsayiyorduk. Bunlar sadece carpma ve toplama isleminin yapildigi Feed Forward ve hatanin geriye yayilarak agirliklarin guncellenmesini saglayan BackPropagation adimlariydi.\n"
   ]
  },
  {
   "cell_type": "code",
   "execution_count": 1,
   "id": "b597c4c0-4bbc-4c55-89c0-f6c2daacb17d",
   "metadata": {},
   "outputs": [],
   "source": [
    "import tensorflow as tf\n",
    "from tensorflow import keras\n",
    "import matplotlib.pyplot as plt\n",
    "from sklearn.model_selection import train_test_split\n",
    "import numpy as np"
   ]
  },
  {
   "cell_type": "code",
   "execution_count": 23,
   "id": "72af45f1-26d0-4f23-9593-63ea7a8a7490",
   "metadata": {},
   "outputs": [],
   "source": [
    "# import MNIST Dataset from keras\n",
    "\n",
    "(x_train,y_train),(x_test,y_test) = keras.datasets.mnist.load_data()"
   ]
  },
  {
   "cell_type": "code",
   "execution_count": 24,
   "id": "0108f314-f832-4022-b767-245f06cddeb7",
   "metadata": {},
   "outputs": [
    {
     "name": "stdout",
     "output_type": "stream",
     "text": [
      "Egitim(train) verilerin sayisi ve boyutu = (60000, 28, 28, 1)\n",
      "Test verilerin sayisi ve boyutu = (10000, 28, 28, 1)\n"
     ]
    }
   ],
   "source": [
    "# veri on isleme step - 1 reshape\n",
    "x_train = x_train.reshape(-1,28,28,1)  # goruntunun toplam sayisi   -28 e 28 tek kanalli\n",
    "x_test = x_test.reshape(-1,28,28,1)  # goruntunun toplam sayisi   -28 e 28 tek kanalli\n",
    "\n",
    "# veri on isleme step - 2 normalize\n",
    "x_train = x_train.astype('float32')/255.0\n",
    "x_test = x_test.astype('float32')/255.0\n",
    "\n",
    "print(f'Egitim(train) verilerin sayisi ve boyutu = {x_train.shape}')\n",
    "print(f'Test verilerin sayisi ve boyutu = {x_test.shape}')"
   ]
  },
  {
   "cell_type": "code",
   "execution_count": 25,
   "id": "8ddd79aa-d4c3-4783-bf82-aea37157a1b2",
   "metadata": {},
   "outputs": [
    {
     "data": {
      "text/plain": [
       "<matplotlib.image.AxesImage at 0x22832f01ad0>"
      ]
     },
     "execution_count": 25,
     "metadata": {},
     "output_type": "execute_result"
    },
    {
     "data": {
      "image/png": "[encoded data removed]",
      "text/plain": [
       "<Figure size 640x480 with 1 Axes>"
      ]
     },
     "metadata": {},
     "output_type": "display_data"
    }
   ],
   "source": [
    "# Cikis verisi olarak bu girdi goruntulerinin hangi rakami temsil ettigini gosteren y verilerini duzenleyelim\n",
    "\n",
    "plt.imshow(x_train[200],cmap='gray')"
   ]
  },
  {
   "cell_type": "code",
   "execution_count": 26,
   "id": "47052b55-6fcc-4fe8-a087-2667621f6b8d",
   "metadata": {},
   "outputs": [],
   "source": [
    "# One-hot encoding\n",
    "y_train = keras.utils.to_categorical(y_train,10)\n",
    "y_test = keras.utils.to_categorical(y_test,10)"
   ]
  },
  {
   "cell_type": "code",
   "execution_count": 27,
   "id": "645f0787-aa41-4309-ae7f-d8fa2dff97db",
   "metadata": {},
   "outputs": [
    {
     "data": {
      "text/plain": [
       "array([[0., 0., 0., ..., 0., 0., 0.],\n",
       "       [1., 0., 0., ..., 0., 0., 0.],\n",
       "       [0., 0., 0., ..., 0., 0., 0.],\n",
       "       ...,\n",
       "       [0., 0., 0., ..., 0., 0., 0.],\n",
       "       [0., 0., 0., ..., 0., 0., 0.],\n",
       "       [0., 0., 0., ..., 0., 1., 0.]])"
      ]
     },
     "execution_count": 27,
     "metadata": {},
     "output_type": "execute_result"
    }
   ],
   "source": [
    "y_train"
   ]
  },
  {
   "cell_type": "code",
   "execution_count": 28,
   "id": "c15304ed-d130-4ad6-a052-c0351b6f4c75",
   "metadata": {},
   "outputs": [],
   "source": [
    "# egitim verilerinin %20'sinin dogrulama (Validation) verisi olarak ayrilmasi\n",
    "# bu isleme data-split islemi denilir\n",
    "# sklearn altindaki train test split fonksiyonu ile yapilir \n",
    "\n",
    "X_train,X_val,y_train_split,y_val= train_test_split(\n",
    "    x_train,y_train,\n",
    "    test_size=.2,\n",
    "    random_state=42,\n",
    "    stratify=y_train #rastgele dagilim yaparken sinif dengelenmesini korur\n",
    ")\n",
    "    "
   ]
  },
  {
   "cell_type": "code",
   "execution_count": 32,
   "id": "a676c9db-966e-497b-a14f-b7f98e4f14b5",
   "metadata": {},
   "outputs": [],
   "source": [
    "## CNN tabanli yapay zeka modelinin olusturulmasi \n",
    "\n",
    "model = keras.Sequential([\n",
    "    ## CNN ilk blok\n",
    "    keras.layers.Conv2D(32,(3,3),activation='relu',input_shape = (28,28,1)),\n",
    "    keras.layers.BatchNormalization(),\n",
    "    \n",
    "    keras.layers.Conv2D(32,(3,3),activation='relu'),\n",
    "    keras.layers.BatchNormalization(),\n",
    "\n",
    "    keras.layers.MaxPooling2D((2,2)),\n",
    "    keras.layers.Dropout(0.25),\n",
    "    \n",
    "    ## CNN ikinci blok\n",
    "    keras.layers.Conv2D(64,(3,3),activation='relu'),\n",
    "    keras.layers.BatchNormalization(),\n",
    "    \n",
    "    keras.layers.Conv2D(64,(3,3),activation='relu'),\n",
    "    keras.layers.BatchNormalization(),\n",
    "\n",
    "    keras.layers.MaxPooling2D((2,2)),\n",
    "    keras.layers.Dropout(0.25),\n",
    "        \n",
    "    ## Yapay sinir agini tanimliyoruz\n",
    "    keras.layers.Flatten(), # duzlestirme islemi\n",
    "    keras.layers.Dense(512,activation='relu'), # 512 noron\n",
    "    keras.layers.BatchNormalization(),\n",
    "    keras.layers.Dropout(.5),\n",
    "    keras.layers.Dense(10,activation= 'softmax') # softmax coklu siniflandirma problemlerinde cok kullanilir\n",
    "    \n",
    "])"
   ]
  },
  {
   "cell_type": "code",
   "execution_count": 33,
   "id": "8ceec0a8-7389-4d64-8cb6-9705bfc51512",
   "metadata": {},
   "outputs": [],
   "source": [
    "# Modeli derliyoruz\n",
    "model.compile(\n",
    "    optimizer = 'adam',\n",
    "    loss = 'categorical_crossentropy',\n",
    "    metrics = ['accuracy']\n",
    ")"
   ]
  },
  {
   "cell_type": "code",
   "execution_count": 51,
   "id": "215855b4-5bfe-4bbb-a52a-c3a9780fab08",
   "metadata": {},
   "outputs": [],
   "source": [
    "model_checkpoint = keras.callbacks.ModelCheckpoint(\n",
    "    \"mnist_classification_cnn_model.weights.h5\",\n",
    "    monitor='val_accuracy',\n",
    "    save_best_only=True,\n",
    "    save_weights_only=True,  # Ağırlıkları kaydetmek için\n",
    "    mode='max',\n",
    "    verbose=1\n",
    ")\n"
   ]
  },
  {
   "cell_type": "code",
   "execution_count": 43,
   "id": "7ac190c1-52e3-49be-9330-ef4281a058f2",
   "metadata": {},
   "outputs": [],
   "source": [
    "my_model_checkpoint = tf.keras.callbacks.ModelCheckpoint(\n",
    "    \"mnist_classification_cnn_model.keras\",\n",
    "    monitor = 'val_accuracy',\n",
    "    save_best_only = True,\n",
    "    mode = 'max',\n",
    "    verbose=1\n",
    ")"
   ]
  },
  {
   "cell_type": "code",
   "execution_count": 53,
   "id": "e3873ed6-a0aa-42f7-a045-10c1544d8936",
   "metadata": {},
   "outputs": [
    {
     "name": "stdout",
     "output_type": "stream",
     "text": [
      "Epoch 1/10\n",
      "\u001b[1m375/375\u001b[0m \u001b[32m━━━━━━━━━━━━━━━━━━━━\u001b[0m\u001b[37m\u001b[0m \u001b[1m0s\u001b[0m 35ms/step - accuracy: 0.9930 - loss: 0.0213\n",
      "Epoch 1: val_accuracy did not improve from 0.99317\n",
      "\u001b[1m375/375\u001b[0m \u001b[32m━━━━━━━━━━━━━━━━━━━━\u001b[0m\u001b[37m\u001b[0m \u001b[1m14s\u001b[0m 37ms/step - accuracy: 0.9930 - loss: 0.0213 - val_accuracy: 0.9908 - val_loss: 0.0304\n",
      "Epoch 2/10\n",
      "\u001b[1m375/375\u001b[0m \u001b[32m━━━━━━━━━━━━━━━━━━━━\u001b[0m\u001b[37m\u001b[0m \u001b[1m0s\u001b[0m 35ms/step - accuracy: 0.9943 - loss: 0.0171\n",
      "Epoch 2: val_accuracy improved from 0.99317 to 0.99333, saving model to mnist_classification_cnn_model.keras\n",
      "\u001b[1m375/375\u001b[0m \u001b[32m━━━━━━━━━━━━━━━━━━━━\u001b[0m\u001b[37m\u001b[0m \u001b[1m14s\u001b[0m 36ms/step - accuracy: 0.9943 - loss: 0.0171 - val_accuracy: 0.9933 - val_loss: 0.0247\n",
      "Epoch 3/10\n",
      "\u001b[1m375/375\u001b[0m \u001b[32m━━━━━━━━━━━━━━━━━━━━\u001b[0m\u001b[37m\u001b[0m \u001b[1m0s\u001b[0m 35ms/step - accuracy: 0.9952 - loss: 0.0165\n",
      "Epoch 3: val_accuracy did not improve from 0.99333\n",
      "\u001b[1m375/375\u001b[0m \u001b[32m━━━━━━━━━━━━━━━━━━━━\u001b[0m\u001b[37m\u001b[0m \u001b[1m14s\u001b[0m 37ms/step - accuracy: 0.9952 - loss: 0.0165 - val_accuracy: 0.9928 - val_loss: 0.0253\n",
      "Epoch 4/10\n",
      "\u001b[1m375/375\u001b[0m \u001b[32m━━━━━━━━━━━━━━━━━━━━\u001b[0m\u001b[37m\u001b[0m \u001b[1m0s\u001b[0m 36ms/step - accuracy: 0.9948 - loss: 0.0152\n",
      "Epoch 4: val_accuracy did not improve from 0.99333\n",
      "\u001b[1m375/375\u001b[0m \u001b[32m━━━━━━━━━━━━━━━━━━━━\u001b[0m\u001b[37m\u001b[0m \u001b[1m14s\u001b[0m 37ms/step - accuracy: 0.9948 - loss: 0.0152 - val_accuracy: 0.9933 - val_loss: 0.0232\n",
      "Epoch 5/10\n",
      "\u001b[1m375/375\u001b[0m \u001b[32m━━━━━━━━━━━━━━━━━━━━\u001b[0m\u001b[37m\u001b[0m \u001b[1m0s\u001b[0m 35ms/step - accuracy: 0.9941 - loss: 0.0162\n",
      "Epoch 5: val_accuracy did not improve from 0.99333\n",
      "\u001b[1m375/375\u001b[0m \u001b[32m━━━━━━━━━━━━━━━━━━━━\u001b[0m\u001b[37m\u001b[0m \u001b[1m14s\u001b[0m 37ms/step - accuracy: 0.9941 - loss: 0.0162 - val_accuracy: 0.9922 - val_loss: 0.0309\n",
      "Epoch 6/10\n",
      "\u001b[1m375/375\u001b[0m \u001b[32m━━━━━━━━━━━━━━━━━━━━\u001b[0m\u001b[37m\u001b[0m \u001b[1m0s\u001b[0m 35ms/step - accuracy: 0.9950 - loss: 0.0145\n",
      "Epoch 6: val_accuracy improved from 0.99333 to 0.99425, saving model to mnist_classification_cnn_model.keras\n",
      "\u001b[1m375/375\u001b[0m \u001b[32m━━━━━━━━━━━━━━━━━━━━\u001b[0m\u001b[37m\u001b[0m \u001b[1m14s\u001b[0m 37ms/step - accuracy: 0.9950 - loss: 0.0145 - val_accuracy: 0.9942 - val_loss: 0.0226\n",
      "Epoch 7/10\n",
      "\u001b[1m374/375\u001b[0m \u001b[32m━━━━━━━━━━━━━━━━━━━\u001b[0m\u001b[37m━\u001b[0m \u001b[1m0s\u001b[0m 36ms/step - accuracy: 0.9943 - loss: 0.0167\n",
      "Epoch 7: val_accuracy did not improve from 0.99425\n",
      "\u001b[1m375/375\u001b[0m \u001b[32m━━━━━━━━━━━━━━━━━━━━\u001b[0m\u001b[37m\u001b[0m \u001b[1m14s\u001b[0m 38ms/step - accuracy: 0.9943 - loss: 0.0167 - val_accuracy: 0.9940 - val_loss: 0.0216\n",
      "Epoch 8/10\n",
      "\u001b[1m374/375\u001b[0m \u001b[32m━━━━━━━━━━━━━━━━━━━\u001b[0m\u001b[37m━\u001b[0m \u001b[1m0s\u001b[0m 36ms/step - accuracy: 0.9947 - loss: 0.0146\n",
      "Epoch 8: val_accuracy did not improve from 0.99425\n",
      "\u001b[1m375/375\u001b[0m \u001b[32m━━━━━━━━━━━━━━━━━━━━\u001b[0m\u001b[37m\u001b[0m \u001b[1m14s\u001b[0m 38ms/step - accuracy: 0.9947 - loss: 0.0146 - val_accuracy: 0.9942 - val_loss: 0.0198\n",
      "Epoch 9/10\n",
      "\u001b[1m375/375\u001b[0m \u001b[32m━━━━━━━━━━━━━━━━━━━━\u001b[0m\u001b[37m\u001b[0m \u001b[1m0s\u001b[0m 36ms/step - accuracy: 0.9964 - loss: 0.0118\n",
      "Epoch 9: val_accuracy did not improve from 0.99425\n",
      "\u001b[1m375/375\u001b[0m \u001b[32m━━━━━━━━━━━━━━━━━━━━\u001b[0m\u001b[37m\u001b[0m \u001b[1m14s\u001b[0m 38ms/step - accuracy: 0.9964 - loss: 0.0118 - val_accuracy: 0.9934 - val_loss: 0.0253\n",
      "Epoch 10/10\n",
      "\u001b[1m375/375\u001b[0m \u001b[32m━━━━━━━━━━━━━━━━━━━━\u001b[0m\u001b[37m\u001b[0m \u001b[1m0s\u001b[0m 36ms/step - accuracy: 0.9959 - loss: 0.0122\n",
      "Epoch 10: val_accuracy improved from 0.99425 to 0.99508, saving model to mnist_classification_cnn_model.keras\n",
      "\u001b[1m375/375\u001b[0m \u001b[32m━━━━━━━━━━━━━━━━━━━━\u001b[0m\u001b[37m\u001b[0m \u001b[1m14s\u001b[0m 38ms/step - accuracy: 0.9959 - loss: 0.0122 - val_accuracy: 0.9951 - val_loss: 0.0191\n"
     ]
    }
   ],
   "source": [
    "\n",
    "with tf.device('/GPU:0'):\n",
    "    history = model.fit(X_train,y_train_split,validation_data=(X_val,y_val),\n",
    "                   batch_size=128,epochs=10,callbacks=my_model_checkpoint\n",
    "                   )"
   ]
  },
  {
   "cell_type": "code",
   "execution_count": 55,
   "id": "7cda22a8-03ae-48b7-bb70-535efdebe92d",
   "metadata": {},
   "outputs": [
    {
     "name": "stdout",
     "output_type": "stream",
     "text": [
      "Test islemi icin degerlendirme yapiliyor ...\n",
      "\u001b[1m313/313\u001b[0m \u001b[32m━━━━━━━━━━━━━━━━━━━━\u001b[0m\u001b[37m\u001b[0m \u001b[1m1s\u001b[0m 2ms/step - accuracy: 0.9933 - loss: 0.0207\n",
      "modelin loss degeri 0.01611546240746975\n",
      "modelin Accuracy degeri  0.994700014591217\n"
     ]
    }
   ],
   "source": [
    "print ('Test islemi icin degerlendirme yapiliyor ...')\n",
    "\n",
    "test_loss,test_accuracy = model.evaluate(x_test,y_test)\n",
    "print(f'modelin loss degeri {test_loss}')\n",
    "print(f'modelin Accuracy degeri  {test_accuracy}')"
   ]
  },
  {
   "cell_type": "code",
   "execution_count": null,
   "id": "4c78b5b2-8d4f-47bd-abc9-4999743bcd04",
   "metadata": {},
   "outputs": [],
   "source": []
  }
 ],
 "metadata": {
  "kernelspec": {
   "display_name": "Python 3 (ipykernel)",
   "language": "python",
   "name": "python3"
  },
  "language_info": {
   "codemirror_mode": {
    "name": "ipython",
    "version": 3
   },
   "file_extension": ".py",
   "mimetype": "text/x-python",
   "name": "python",
   "nbconvert_exporter": "python",
   "pygments_lexer": "ipython3",
   "version": "3.11.7"
  }
 },
 "nbformat": 4,
 "nbformat_minor": 5
}
